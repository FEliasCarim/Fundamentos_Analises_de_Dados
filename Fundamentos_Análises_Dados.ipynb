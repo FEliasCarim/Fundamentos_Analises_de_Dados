{
  "nbformat": 4,
  "nbformat_minor": 0,
  "metadata": {
    "colab": {
      "provenance": [],
      "collapsed_sections": [],
      "authorship_tag": "ABX9TyPhVLGsKmyPdFyoC4SAnkhc",
      "include_colab_link": true
    },
    "kernelspec": {
      "name": "python3",
      "display_name": "Python 3"
    },
    "language_info": {
      "name": "python"
    }
  },
  "cells": [
    {
      "cell_type": "markdown",
      "metadata": {
        "id": "view-in-github",
        "colab_type": "text"
      },
      "source": [
        "<a href=\"https://colab.research.google.com/github/FEliasCarim/Fundamentos_Analises_de_Dados/blob/main/Fundamentos_An%C3%A1lises_Dados.ipynb\" target=\"_parent\"><img src=\"https://colab.research.google.com/assets/colab-badge.svg\" alt=\"Open In Colab\"/></a>"
      ]
    },
    {
      "cell_type": "code",
      "execution_count": 1,
      "metadata": {
        "id": "I0JDrlbaUYuL"
      },
      "outputs": [],
      "source": [
        "estudantes = {'Matheus':24, 'Lucas':34, 'Fernanda':22, 'Cristiano':25, 'Tamires':18}"
      ]
    },
    {
      "cell_type": "code",
      "source": [
        "len(estudantes)"
      ],
      "metadata": {
        "colab": {
          "base_uri": "https://localhost:8080/"
        },
        "id": "wUUutn0dU80z",
        "outputId": "5a05e602-1e92-41a2-8fec-d271888f4eb0"
      },
      "execution_count": 2,
      "outputs": [
        {
          "output_type": "execute_result",
          "data": {
            "text/plain": [
              "5"
            ]
          },
          "metadata": {},
          "execution_count": 2
        }
      ]
    },
    {
      "cell_type": "code",
      "source": [
        "estudantes.keys()"
      ],
      "metadata": {
        "colab": {
          "base_uri": "https://localhost:8080/"
        },
        "id": "P_BAe3-6V5QX",
        "outputId": "90c0df83-51ef-45f6-e5a6-b91cb102fa7f"
      },
      "execution_count": 3,
      "outputs": [
        {
          "output_type": "execute_result",
          "data": {
            "text/plain": [
              "dict_keys(['Matheus', 'Lucas', 'Fernanda', 'Cristiano', 'Tamires'])"
            ]
          },
          "metadata": {},
          "execution_count": 3
        }
      ]
    },
    {
      "cell_type": "code",
      "source": [
        "estudantes.values()"
      ],
      "metadata": {
        "colab": {
          "base_uri": "https://localhost:8080/"
        },
        "id": "Gzu0BLVZV_YA",
        "outputId": "67cba443-ee9d-4b45-ac78-5ca227c95a7e"
      },
      "execution_count": 5,
      "outputs": [
        {
          "output_type": "execute_result",
          "data": {
            "text/plain": [
              "dict_values([24, 34, 22, 25, 18])"
            ]
          },
          "metadata": {},
          "execution_count": 5
        }
      ]
    },
    {
      "cell_type": "code",
      "source": [
        "estudantes.items()"
      ],
      "metadata": {
        "colab": {
          "base_uri": "https://localhost:8080/"
        },
        "id": "GGiHU48PWIl3",
        "outputId": "88124c13-8d58-419e-8ca0-b4bcf6fc5348"
      },
      "execution_count": 6,
      "outputs": [
        {
          "output_type": "execute_result",
          "data": {
            "text/plain": [
              "dict_items([('Matheus', 24), ('Lucas', 34), ('Fernanda', 22), ('Cristiano', 25), ('Tamires', 18)])"
            ]
          },
          "metadata": {},
          "execution_count": 6
        }
      ]
    },
    {
      "cell_type": "code",
      "source": [
        "estudantes2 = {'Erica':40, 'Eliana':34, 'Elen':35}"
      ],
      "metadata": {
        "id": "z35Ql8SSWQqf"
      },
      "execution_count": 7,
      "outputs": []
    },
    {
      "cell_type": "code",
      "source": [
        "estudantes.update(estudantes2)"
      ],
      "metadata": {
        "id": "Tl5MgB1FWtyf"
      },
      "execution_count": 8,
      "outputs": []
    },
    {
      "cell_type": "code",
      "source": [
        "estudantes"
      ],
      "metadata": {
        "colab": {
          "base_uri": "https://localhost:8080/"
        },
        "id": "nIz6WTyiW0YW",
        "outputId": "99e6b49d-8d48-4ac1-f9f1-faf807fb939e"
      },
      "execution_count": 9,
      "outputs": [
        {
          "output_type": "execute_result",
          "data": {
            "text/plain": [
              "{'Matheus': 24,\n",
              " 'Lucas': 34,\n",
              " 'Fernanda': 22,\n",
              " 'Cristiano': 25,\n",
              " 'Tamires': 18,\n",
              " 'Erica': 40,\n",
              " 'Eliana': 34,\n",
              " 'Elen': 35}"
            ]
          },
          "metadata": {},
          "execution_count": 9
        }
      ]
    },
    {
      "cell_type": "code",
      "source": [
        "dicionario = {'key1':1234, 'key2':[22,45,78,56],'key3':['leite','maça','batata']}"
      ],
      "metadata": {
        "id": "8t8OBseLZXUp"
      },
      "execution_count": 11,
      "outputs": []
    },
    {
      "cell_type": "code",
      "source": [
        "dicionario"
      ],
      "metadata": {
        "colab": {
          "base_uri": "https://localhost:8080/"
        },
        "id": "RsIAWhHuaOYw",
        "outputId": "9ea47077-2951-4723-de1e-fa4956531e76"
      },
      "execution_count": 12,
      "outputs": [
        {
          "output_type": "execute_result",
          "data": {
            "text/plain": [
              "{'key1': 1234, 'key2': [22, 45, 78, 56], 'key3': ['leite', 'maça', 'batata']}"
            ]
          },
          "metadata": {},
          "execution_count": 12
        }
      ]
    },
    {
      "cell_type": "code",
      "source": [
        "dicionario['key2']"
      ],
      "metadata": {
        "colab": {
          "base_uri": "https://localhost:8080/"
        },
        "id": "vCDnePbbaXs4",
        "outputId": "847c5007-c79c-4d14-d746-910b40d0b3f6"
      },
      "execution_count": 13,
      "outputs": [
        {
          "output_type": "execute_result",
          "data": {
            "text/plain": [
              "[22, 45, 78, 56]"
            ]
          },
          "metadata": {},
          "execution_count": 13
        }
      ]
    },
    {
      "cell_type": "code",
      "source": [
        "dicionario['key3'][0].upper()"
      ],
      "metadata": {
        "colab": {
          "base_uri": "https://localhost:8080/",
          "height": 35
        },
        "id": "WJ83-WXuawPf",
        "outputId": "a831376e-6079-4b45-e603-68ad280cf0b7"
      },
      "execution_count": 14,
      "outputs": [
        {
          "output_type": "execute_result",
          "data": {
            "text/plain": [
              "'LEITE'"
            ],
            "application/vnd.google.colaboratory.intrinsic+json": {
              "type": "string"
            }
          },
          "metadata": {},
          "execution_count": 14
        }
      ]
    },
    {
      "cell_type": "code",
      "source": [
        "varl = dicionario['key2'][0] - 2"
      ],
      "metadata": {
        "id": "wcdP4FiWc-hr"
      },
      "execution_count": 15,
      "outputs": []
    },
    {
      "cell_type": "code",
      "source": [
        "varl2 = dicionario['key2'][2] + 3\n"
      ],
      "metadata": {
        "id": "p_R197qbg3Ov"
      },
      "execution_count": 17,
      "outputs": []
    },
    {
      "cell_type": "code",
      "source": [
        "varl"
      ],
      "metadata": {
        "colab": {
          "base_uri": "https://localhost:8080/"
        },
        "id": "1OZvj9nvdJ4T",
        "outputId": "d74eb445-43c3-4609-e088-511b8f604d1a"
      },
      "execution_count": 16,
      "outputs": [
        {
          "output_type": "execute_result",
          "data": {
            "text/plain": [
              "20"
            ]
          },
          "metadata": {},
          "execution_count": 16
        }
      ]
    },
    {
      "cell_type": "code",
      "source": [
        "varl2"
      ],
      "metadata": {
        "colab": {
          "base_uri": "https://localhost:8080/"
        },
        "id": "VN-tWTjDhGUc",
        "outputId": "d973ea31-0862-40ab-cb4b-4332f160751f"
      },
      "execution_count": 18,
      "outputs": [
        {
          "output_type": "execute_result",
          "data": {
            "text/plain": [
              "81"
            ]
          },
          "metadata": {},
          "execution_count": 18
        }
      ]
    },
    {
      "cell_type": "markdown",
      "source": [
        "TUPLAS"
      ],
      "metadata": {
        "id": "YNpwQucyYjo7"
      }
    },
    {
      "cell_type": "code",
      "source": [
        "Tupla1 = ('Matemática', 45, 'Elefantes')"
      ],
      "metadata": {
        "id": "DX0EvxHdYlG7"
      },
      "execution_count": 19,
      "outputs": []
    },
    {
      "cell_type": "code",
      "source": [
        "Tupla1"
      ],
      "metadata": {
        "colab": {
          "base_uri": "https://localhost:8080/"
        },
        "id": "3wSrkRjMnPvM",
        "outputId": "43a64b64-57fd-4533-ec6a-db6146449242"
      },
      "execution_count": 20,
      "outputs": [
        {
          "output_type": "execute_result",
          "data": {
            "text/plain": [
              "('Matemática', 45, 'Elefantes')"
            ]
          },
          "metadata": {},
          "execution_count": 20
        }
      ]
    },
    {
      "cell_type": "code",
      "source": [
        "#Criando uma tupla\n",
        "t2 = (22,45,65,22)\n",
        "t2"
      ],
      "metadata": {
        "colab": {
          "base_uri": "https://localhost:8080/"
        },
        "id": "_VF6GpAKnSzh",
        "outputId": "0ad6f47d-ba81-4fab-c6cd-605c0e8671a7"
      },
      "execution_count": 32,
      "outputs": [
        {
          "output_type": "execute_result",
          "data": {
            "text/plain": [
              "(22, 45, 65, 22)"
            ]
          },
          "metadata": {},
          "execution_count": 32
        }
      ]
    },
    {
      "cell_type": "code",
      "source": [
        "#Convertendo uma tupla em lista\n",
        "lista_2 = list(t2)\n",
        "lista_2\n",
        "              "
      ],
      "metadata": {
        "colab": {
          "base_uri": "https://localhost:8080/"
        },
        "id": "bbhbARHzoO84",
        "outputId": "133a1deb-67e6-49f3-a157-b1a3ee3424a6"
      },
      "execution_count": 33,
      "outputs": [
        {
          "output_type": "execute_result",
          "data": {
            "text/plain": [
              "[22, 45, 65, 22]"
            ]
          },
          "metadata": {},
          "execution_count": 33
        }
      ]
    },
    {
      "cell_type": "code",
      "source": [
        "#Adicionando um elemento na lista\n",
        "lista_2.append(9)\n",
        "lista_2"
      ],
      "metadata": {
        "colab": {
          "base_uri": "https://localhost:8080/"
        },
        "id": "CruwPaYmo5zn",
        "outputId": "07f60cf3-32f1-4f13-ff67-9a30410360d9"
      },
      "execution_count": 34,
      "outputs": [
        {
          "output_type": "execute_result",
          "data": {
            "text/plain": [
              "[22, 45, 65, 22, 9]"
            ]
          },
          "metadata": {},
          "execution_count": 34
        }
      ]
    },
    {
      "cell_type": "code",
      "source": [
        "#Convertendo a lista em tupla\n",
        "t2 = tuple(lista_2)\n",
        "t2"
      ],
      "metadata": {
        "colab": {
          "base_uri": "https://localhost:8080/"
        },
        "id": "-yE0Wa-JpIz2",
        "outputId": "97b0cf21-e4d5-4f68-8400-f2f8b0661636"
      },
      "execution_count": 35,
      "outputs": [
        {
          "output_type": "execute_result",
          "data": {
            "text/plain": [
              "(22, 45, 65, 22, 9)"
            ]
          },
          "metadata": {},
          "execution_count": 35
        }
      ]
    }
  ]
}